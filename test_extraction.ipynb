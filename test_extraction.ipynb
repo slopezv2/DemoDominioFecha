{
 "cells": [
  {
   "cell_type": "markdown",
   "metadata": {},
   "source": [
    "# Azure AI Document Intelligence and OpenAI Experiment\n",
    "This notebook demonstrates how to use Azure AI Document Intelligence and Azure OpenAI to extract dates and car plate numbers from PDFs."
   ]
  },
  {
   "cell_type": "code",
   "execution_count": null,
   "metadata": {},
   "outputs": [],
   "source": [
    "from dotenv import load_dotenv\n",
    "load_dotenv()"
   ]
  },
  {
   "cell_type": "code",
   "execution_count": null,
   "metadata": {},
   "outputs": [],
   "source": [
    "# Import necessary libraries\n",
    "import os\n",
    "import requests\n",
    "from pypdf import PdfReader, PdfWriter\n",
    "#from azure.identity import DefaultAzureCredential\n",
    "from azure.core.credentials import AzureKeyCredential\n",
    "from azure.ai.documentintelligence import DocumentIntelligenceClient\n",
    "from openai import AzureOpenAI\n",
    "from pathlib import Path"
   ]
  },
  {
   "cell_type": "code",
   "execution_count": null,
   "metadata": {},
   "outputs": [],
   "source": [
    "local_file_path=\"dominios.pdf\""
   ]
  },
  {
   "cell_type": "code",
   "execution_count": null,
   "metadata": {},
   "outputs": [],
   "source": [
    "# Set up Azure Document Intelligence client\n",
    "endpoint = os.getenv(\"DOCUMENT_INTELLIGENCE_ENDPOINT\")\n",
    "credential = AzureKeyCredential(os.getenv(\"DOCUMENT_INTELLIGENCE_API_KEY\"))\n",
    "document_intelligence_client = DocumentIntelligenceClient(endpoint, credential)"
   ]
  },
  {
   "cell_type": "code",
   "execution_count": null,
   "metadata": {},
   "outputs": [],
   "source": [
    "# Set up Azure OpenAI client\n",
    "openai_endpoint = os.getenv(\"AZURE_OPENAI_ENDPOINT\")\n",
    "openai_api_key = os.getenv(\"AZURE_OPENAI_API_KEY\")\n",
    "openai_client = AzureOpenAI(api_version=\"2025-02-01-preview\",azure_endpoint=openai_endpoint,api_key=openai_api_key)"
   ]
  },
  {
   "cell_type": "code",
   "execution_count": null,
   "metadata": {},
   "outputs": [],
   "source": [
    "# Open the PDF file\n",
    "reader = PdfReader(local_file_path)\n",
    "\n",
    "# Iterate through each page\n",
    "for page_num in range(len(reader.pages)):\n",
    "    page = reader.pages[page_num]\n",
    "    output = PdfWriter()\n",
    "    output.add_page(page)\n",
    "    with open(f'pages/page{page_num+1}.pdf', 'wb') as file:\n",
    "        output.write(file)"
   ]
  },
  {
   "cell_type": "code",
   "execution_count": null,
   "metadata": {},
   "outputs": [],
   "source": [
    "with open(\"pages/page7.pdf\", \"rb\") as f:\n",
    "        poller = document_intelligence_client.begin_analyze_document(\"prebuilt-read\", body=f,locale=\"es-AR\",output_content_format=\"markdown\")\n",
    "result = poller.result()\n",
    "#document_intelligence_client.begin_analyze_document(\"pages/page1.pdf\", model=\"prebuilt-document\", ,).result()"
   ]
  },
  {
   "cell_type": "code",
   "execution_count": null,
   "metadata": {},
   "outputs": [],
   "source": [
    "result.styles"
   ]
  },
  {
   "cell_type": "code",
   "execution_count": null,
   "metadata": {},
   "outputs": [],
   "source": [
    "completion = openai_client.chat.completions.create(\n",
    "    model=\"gpt-4o-mini\",\n",
    "    messages=[\n",
    "        {\n",
    "            \"role\": \"system\",\n",
    "            \"content\": [\n",
    "                {\n",
    "                    \"type\": \"text\",\n",
    "                    \"text\": \"Structure your response as a JSON object with the fields `dates_detected` and `dominio` as mandatory properties. \\n\\n- `dates_detected` should always contain an array of dates extracted from the input content, formatted as \\\"DD/MM/YYYY\\\".\\n- `dominio` should hold the car plate extracted from the input content. Return null if no car plate is detected.\\n\\n# Steps\\n\\n1. Extract all dates from the content and normalize them to the \\\"DD/MM/YYYY\\\" format.\\n2. Identify and extract the car plate (`dominio`) mentioned within the content.\\n3. Content is in Spanish.\\n4. Return a JSON object with the two mandatory fields:\\n   - `dates_detected`: A date-array containing the extracted dates.\\n   - `dominio`: The identified car plate, or null if none is found.\\n\\n# Output Format\\n\\n```{\\n  \\\"dates_detected\\\": [\\\"DD/MM/YYYY\\\", \\\"...\\\"],\\n  \\\"dominio\\\": \\\"ABC-1234\\\"\\n}\\n```\\n\\n- If no dates are detected, `dates_detected` should be an empty array: `\\\"dates_detected\\\": []`.\\n- If no car plate (`dominio`) is found, set its value to `null`.\\n\\n# Notes\\n\\n- Ensure the dates are accurately formatted and handle ambiguous formats (e.g., distinguish between MM/DD/YYYY and DD/MM/YYYY based on Spanish convention).\\n- The car plate (`dominio`) should follow typical car plate formats (e.g., \\\"ABC-1234\\\", \\\"1234-ABCD\\\", \\\"A-1234567\\\") as seen in Spanish-speaking countries.\\n- Ignore unrelated text and only extract valid dates and car plate information. If input content is ambiguous or contains errors, handle them gracefully, returning the best possible extraction or setting fields to their default (empty array or null).\\n\\n# Example\\n\\n### Input\\n\\nContent: \\n\\\"El coche con el dominio ABC-123 pasó por la fecha 25/12/2022 y regresó el 30/12/2022.\\\"\\n\\n### Output\\n\\n```{\\n  \\\"dates_detected\\\": [\\\"25/12/2022\\\", \\\"30/12/2022\\\"],\\n  \\\"dominio\\\": \\\"ABC-123\\\"\\n}\\n```\\n\\n### Input\\n\\nContent: \\n\\\"Hoy es 15/08/2023 y no se detectaron matrículas.\\\"\\n\\n### Output\\n\\n```{\\n  \\\"dates_detected\\\": [\\\"15/08/2023\\\"],\\n  \\\"dominio\\\": null\\n}\\n```\"\n",
    "                },\n",
    "                \n",
    "            ]\n",
    "        },\n",
    "        {\n",
    "            \"role\": \"user\",\n",
    "            \"content\": [\n",
    "                {\n",
    "                    \"type\": \"text\",\n",
    "                    \"text\": result.content\n",
    "                },\n",
    "                \n",
    "            ]\n",
    "        }\n",
    "    ] \n",
    ")\n",
    "print(completion.to_json())"
   ]
  },
  {
   "cell_type": "code",
   "execution_count": null,
   "metadata": {},
   "outputs": [],
   "source": [
    "completion.to_dict()[\"choices\"][0][\"message\"][\"content\"].replace(\"json\",\"\").replace(\"`\",\"\").replace(\"\\n\",\"\").replace(\" \",\"\")"
   ]
  },
  {
   "cell_type": "code",
   "execution_count": null,
   "metadata": {},
   "outputs": [],
   "source": [
    "def extract_dates_and_plate(result):\n",
    "    try:\n",
    "        completion = openai_client.chat.completions.create(\n",
    "        model=\"gpt-4o-mini\",\n",
    "        messages=[\n",
    "                {\n",
    "                    \"role\": \"system\",\n",
    "                    \"content\": [\n",
    "                        {\n",
    "                            \"type\": \"text\",\n",
    "                            \"text\": \"Structure your response as a JSON object with the fields `dates_detected` and `dominio` as mandatory properties. \\n\\n- `dates_detected` should always contain an array of dates extracted from the input content, formatted as \\\"DD/MM/YYYY\\\".\\n- `dominio` should hold the car plate extracted from the input content. Return null if no car plate is detected.\\n\\n# Steps\\n\\n1. Extract all dates from the content and normalize them to the \\\"DD/MM/YYYY\\\" format.\\n2. Identify and extract the car plate (`dominio`) mentioned within the content.\\n3. Content is in Spanish.\\n4. Return a JSON object with the two mandatory fields:\\n   - `dates_detected`: A date-array containing the extracted dates.\\n   - `dominio`: The identified car plate, or null if none is found.\\n\\n# Output Format\\n\\n```{\\n  \\\"dates_detected\\\": [\\\"DD/MM/YYYY\\\", \\\"...\\\"],\\n  \\\"dominio\\\": \\\"ABC-1234\\\"\\n}\\n```\\n\\n- If no dates are detected, `dates_detected` should be an empty array: `\\\"dates_detected\\\": []`.\\n- If no car plate (`dominio`) is found, set its value to `null`.\\n\\n# Notes\\n\\n- Ensure the dates are accurately formatted and handle ambiguous formats (e.g., distinguish between MM/DD/YYYY and DD/MM/YYYY based on Spanish convention).\\n- The car plate (`dominio`) should follow typical car plate formats (e.g., \\\"ABC-1234\\\", \\\"1234-ABCD\\\", \\\"A-1234567\\\") as seen in Spanish-speaking countries.\\n- Ignore unrelated text and only extract valid dates and car plate information. If input content is ambiguous or contains errors, handle them gracefully, returning the best possible extraction or setting fields to their default (empty array or null).\\n\\n# Example\\n\\n### Input\\n\\nContent: \\n\\\"El coche con el dominio ABC-123 pasó por la fecha 25/12/2022 y regresó el 30/12/2022.\\\"\\n\\n### Output\\n\\n```{\\n  \\\"dates_detected\\\": [\\\"25/12/2022\\\", \\\"30/12/2022\\\"],\\n  \\\"dominio\\\": \\\"ABC-123\\\"\\n}\\n```\\n\\n### Input\\n\\nContent: \\n\\\"Hoy es 15/08/2023 y no se detectaron matrículas.\\\"\\n\\n### Output\\n\\n```{\\n  \\\"dates_detected\\\": [\\\"15/08/2023\\\"],\\n  \\\"dominio\\\": null\\n}\\n```\"\n",
    "                        },\n",
    "                    ]\n",
    "                },\n",
    "                {\n",
    "                    \"role\": \"user\",\n",
    "                    \"content\": [\n",
    "                        {\n",
    "                            \"type\": \"text\",\n",
    "                            \"text\": result.content\n",
    "                        },\n",
    "                    ]\n",
    "                }\n",
    "            ] \n",
    "        )\n",
    "    except:\n",
    "        return \"{\\\"dates_detected\\\":[],\\\"dominio\\\":null\\n}\"\n",
    "    print(completion.usage)\n",
    "    return completion.to_dict()[\"choices\"][0][\"message\"][\"content\"].replace(\"json\",\"\").replace(\"`\",\"\").replace(\"\\n\",\"\").replace(\" \",\"\")"
   ]
  },
  {
   "cell_type": "code",
   "execution_count": null,
   "metadata": {},
   "outputs": [],
   "source": [
    "import json\n",
    "\n",
    "\n",
    "directory_path = Path('pages/')\n",
    "file_list = [file for file in directory_path.iterdir() if file.is_file()]\n",
    "arr_processed_pages = []\n",
    "\n",
    "for page in file_list:\n",
    "    with open(page, \"rb\") as f:\n",
    "        poller = document_intelligence_client.begin_analyze_document(\"prebuilt-read\", body=f,locale=\"es-AR\",output_content_format=\"markdown\")\n",
    "    result = poller.result()\n",
    "    dict_info = json.loads(extract_dates_and_plate(result))\n",
    "    dict_info[\"page\"] = page.name\n",
    "    arr_processed_pages.append(dict_info)\n",
    "    print(dict_info)"
   ]
  },
  {
   "cell_type": "code",
   "execution_count": null,
   "metadata": {},
   "outputs": [],
   "source": [
    "import pandas as pd\n",
    "pd_processed_pages = pd.DataFrame(arr_processed_pages)"
   ]
  },
  {
   "cell_type": "code",
   "execution_count": null,
   "metadata": {},
   "outputs": [],
   "source": [
    "pd_processed_pages.to_csv(\"processed_pages.csv\",index=False,sep=\",\",header=True,encoding=\"utf-8\")"
   ]
  },
  {
   "cell_type": "code",
   "execution_count": null,
   "metadata": {},
   "outputs": [],
   "source": [
    "file_list"
   ]
  },
  {
   "cell_type": "code",
   "execution_count": null,
   "metadata": {},
   "outputs": [],
   "source": [
    "\n",
    "\n",
    "# Function to extract text from PDF using Azure Form Recognizer\n",
    "def extract_text_from_pdf(pdf_path):\n",
    "    \n",
    "\n",
    "# Function to extract dates and car plate numbers using Azure OpenAI\n",
    "def extract_dates_and_car_plate(text):\n",
    "    prompt = f\"Extract dates and car plate numbers from the following text:\\n\\n{text}\"\n",
    "    response = openai_client.completions.create(engine=\"davinci\", prompt=prompt, max_tokens=100)\n",
    "    return response.choices[0].text.strip()\n",
    "\n",
    "# Example usage\n",
    "pdf_path = \"path/to/your/pdf/document.pdf\"\n",
    "text = extract_text_from_pdf(pdf_path)\n",
    "extracted_info = extract_dates_and_car_plate(text)\n",
    "print(extracted_info)"
   ]
  }
 ],
 "metadata": {
  "kernelspec": {
   "display_name": "pocdocumentintelligence",
   "language": "python",
   "name": "python3"
  },
  "language_info": {
   "codemirror_mode": {
    "name": "ipython",
    "version": 3
   },
   "file_extension": ".py",
   "mimetype": "text/x-python",
   "name": "python",
   "nbconvert_exporter": "python",
   "pygments_lexer": "ipython3",
   "version": "3.11.11"
  }
 },
 "nbformat": 4,
 "nbformat_minor": 2
}
